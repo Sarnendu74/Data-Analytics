{
 "cells": [
  {
   "cell_type": "markdown",
   "id": "b82b5375-b4dd-4435-a28e-0d894ad1aa30",
   "metadata": {
    "jp-MarkdownHeadingCollapsed": true
   },
   "source": [
    "## Importing Libraries"
   ]
  },
  {
   "cell_type": "code",
   "execution_count": 1,
   "id": "321a7a8c-f9a3-415d-ab95-5db22b51f8d1",
   "metadata": {},
   "outputs": [],
   "source": [
    "import pandas as pd\n",
    "import numpy as np\n",
    "import matplotlib.pyplot as plt\n",
    "import seaborn as sns\n",
    "from scipy import stats"
   ]
  },
  {
   "cell_type": "markdown",
   "id": "129d5816-4ebb-4a0a-bdcd-f6aae9cae8bf",
   "metadata": {
    "jp-MarkdownHeadingCollapsed": true
   },
   "source": [
    "## Load Data"
   ]
  },
  {
   "cell_type": "code",
   "execution_count": 2,
   "id": "2b57e0fe-7016-4e4d-91b6-9fd37c314ba4",
   "metadata": {},
   "outputs": [
    {
     "data": {
      "text/html": [
       "<div>\n",
       "<style scoped>\n",
       "    .dataframe tbody tr th:only-of-type {\n",
       "        vertical-align: middle;\n",
       "    }\n",
       "\n",
       "    .dataframe tbody tr th {\n",
       "        vertical-align: top;\n",
       "    }\n",
       "\n",
       "    .dataframe thead th {\n",
       "        text-align: right;\n",
       "    }\n",
       "</style>\n",
       "<table border=\"1\" class=\"dataframe\">\n",
       "  <thead>\n",
       "    <tr style=\"text-align: right;\">\n",
       "      <th></th>\n",
       "      <th>item_id</th>\n",
       "      <th>user_id</th>\n",
       "      <th>rating</th>\n",
       "      <th>timestamp</th>\n",
       "      <th>gender</th>\n",
       "      <th>category</th>\n",
       "      <th>brand</th>\n",
       "      <th>year</th>\n",
       "      <th>month</th>\n",
       "      <th>quantity</th>\n",
       "      <th>unitprice</th>\n",
       "      <th>amount</th>\n",
       "    </tr>\n",
       "  </thead>\n",
       "  <tbody>\n",
       "    <tr>\n",
       "      <th>0</th>\n",
       "      <td>7</td>\n",
       "      <td>131</td>\n",
       "      <td>4</td>\n",
       "      <td>36692</td>\n",
       "      <td>Female</td>\n",
       "      <td>Home Audio</td>\n",
       "      <td>Philips</td>\n",
       "      <td>2000</td>\n",
       "      <td>6</td>\n",
       "      <td>5</td>\n",
       "      <td>6360</td>\n",
       "      <td>31800</td>\n",
       "    </tr>\n",
       "    <tr>\n",
       "      <th>1</th>\n",
       "      <td>19</td>\n",
       "      <td>231</td>\n",
       "      <td>5</td>\n",
       "      <td>36891</td>\n",
       "      <td>Female</td>\n",
       "      <td>Camera</td>\n",
       "      <td>Canon</td>\n",
       "      <td>2000</td>\n",
       "      <td>12</td>\n",
       "      <td>10</td>\n",
       "      <td>9955</td>\n",
       "      <td>99550</td>\n",
       "    </tr>\n",
       "    <tr>\n",
       "      <th>2</th>\n",
       "      <td>14</td>\n",
       "      <td>233</td>\n",
       "      <td>5</td>\n",
       "      <td>36893</td>\n",
       "      <td>Female</td>\n",
       "      <td>Camera</td>\n",
       "      <td>Kodak</td>\n",
       "      <td>2001</td>\n",
       "      <td>1</td>\n",
       "      <td>9</td>\n",
       "      <td>7639</td>\n",
       "      <td>68751</td>\n",
       "    </tr>\n",
       "    <tr>\n",
       "      <th>3</th>\n",
       "      <td>14</td>\n",
       "      <td>257</td>\n",
       "      <td>5</td>\n",
       "      <td>36926</td>\n",
       "      <td>Female</td>\n",
       "      <td>Camera</td>\n",
       "      <td>Kodak</td>\n",
       "      <td>2001</td>\n",
       "      <td>2</td>\n",
       "      <td>7</td>\n",
       "      <td>5097</td>\n",
       "      <td>35679</td>\n",
       "    </tr>\n",
       "    <tr>\n",
       "      <th>4</th>\n",
       "      <td>14</td>\n",
       "      <td>269</td>\n",
       "      <td>5</td>\n",
       "      <td>36952</td>\n",
       "      <td>Female</td>\n",
       "      <td>Camera</td>\n",
       "      <td>Kodak</td>\n",
       "      <td>2001</td>\n",
       "      <td>3</td>\n",
       "      <td>10</td>\n",
       "      <td>6472</td>\n",
       "      <td>64720</td>\n",
       "    </tr>\n",
       "    <tr>\n",
       "      <th>...</th>\n",
       "      <td>...</td>\n",
       "      <td>...</td>\n",
       "      <td>...</td>\n",
       "      <td>...</td>\n",
       "      <td>...</td>\n",
       "      <td>...</td>\n",
       "      <td>...</td>\n",
       "      <td>...</td>\n",
       "      <td>...</td>\n",
       "      <td>...</td>\n",
       "      <td>...</td>\n",
       "      <td>...</td>\n",
       "    </tr>\n",
       "    <tr>\n",
       "      <th>45161</th>\n",
       "      <td>7828</td>\n",
       "      <td>1157458</td>\n",
       "      <td>5</td>\n",
       "      <td>43341</td>\n",
       "      <td>Female</td>\n",
       "      <td>Headphones</td>\n",
       "      <td>Bose</td>\n",
       "      <td>2018</td>\n",
       "      <td>8</td>\n",
       "      <td>7</td>\n",
       "      <td>5925</td>\n",
       "      <td>41475</td>\n",
       "    </tr>\n",
       "    <tr>\n",
       "      <th>45162</th>\n",
       "      <td>8624</td>\n",
       "      <td>1157504</td>\n",
       "      <td>5</td>\n",
       "      <td>43342</td>\n",
       "      <td>Female</td>\n",
       "      <td>Headphones</td>\n",
       "      <td>Pyle</td>\n",
       "      <td>2018</td>\n",
       "      <td>8</td>\n",
       "      <td>7</td>\n",
       "      <td>9717</td>\n",
       "      <td>68019</td>\n",
       "    </tr>\n",
       "    <tr>\n",
       "      <th>45163</th>\n",
       "      <td>9513</td>\n",
       "      <td>1157527</td>\n",
       "      <td>5</td>\n",
       "      <td>43344</td>\n",
       "      <td>Male</td>\n",
       "      <td>Headphones</td>\n",
       "      <td>Mpow</td>\n",
       "      <td>2018</td>\n",
       "      <td>9</td>\n",
       "      <td>8</td>\n",
       "      <td>9197</td>\n",
       "      <td>73576</td>\n",
       "    </tr>\n",
       "    <tr>\n",
       "      <th>45164</th>\n",
       "      <td>9125</td>\n",
       "      <td>1157555</td>\n",
       "      <td>3</td>\n",
       "      <td>43348</td>\n",
       "      <td>Female</td>\n",
       "      <td>Headphones</td>\n",
       "      <td>EldHus</td>\n",
       "      <td>2018</td>\n",
       "      <td>9</td>\n",
       "      <td>10</td>\n",
       "      <td>8848</td>\n",
       "      <td>88480</td>\n",
       "    </tr>\n",
       "    <tr>\n",
       "      <th>45165</th>\n",
       "      <td>9478</td>\n",
       "      <td>1157632</td>\n",
       "      <td>1</td>\n",
       "      <td>43374</td>\n",
       "      <td>Female</td>\n",
       "      <td>Headphones</td>\n",
       "      <td>Etre Jeune</td>\n",
       "      <td>2018</td>\n",
       "      <td>10</td>\n",
       "      <td>7</td>\n",
       "      <td>7717</td>\n",
       "      <td>54019</td>\n",
       "    </tr>\n",
       "  </tbody>\n",
       "</table>\n",
       "<p>45166 rows × 12 columns</p>\n",
       "</div>"
      ],
      "text/plain": [
       "       item_id  user_id  rating  timestamp  gender    category       brand  \\\n",
       "0            7      131       4      36692  Female  Home Audio     Philips   \n",
       "1           19      231       5      36891  Female      Camera       Canon   \n",
       "2           14      233       5      36893  Female      Camera       Kodak   \n",
       "3           14      257       5      36926  Female      Camera       Kodak   \n",
       "4           14      269       5      36952  Female      Camera       Kodak   \n",
       "...        ...      ...     ...        ...     ...         ...         ...   \n",
       "45161     7828  1157458       5      43341  Female  Headphones        Bose   \n",
       "45162     8624  1157504       5      43342  Female  Headphones        Pyle   \n",
       "45163     9513  1157527       5      43344    Male  Headphones        Mpow   \n",
       "45164     9125  1157555       3      43348  Female  Headphones      EldHus   \n",
       "45165     9478  1157632       1      43374  Female  Headphones  Etre Jeune   \n",
       "\n",
       "       year  month  quantity  unitprice  amount  \n",
       "0      2000      6         5       6360   31800  \n",
       "1      2000     12        10       9955   99550  \n",
       "2      2001      1         9       7639   68751  \n",
       "3      2001      2         7       5097   35679  \n",
       "4      2001      3        10       6472   64720  \n",
       "...     ...    ...       ...        ...     ...  \n",
       "45161  2018      8         7       5925   41475  \n",
       "45162  2018      8         7       9717   68019  \n",
       "45163  2018      9         8       9197   73576  \n",
       "45164  2018      9        10       8848   88480  \n",
       "45165  2018     10         7       7717   54019  \n",
       "\n",
       "[45166 rows x 12 columns]"
      ]
     },
     "execution_count": 2,
     "metadata": {},
     "output_type": "execute_result"
    }
   ],
   "source": [
    "file_path = 'cleaned.csv'\n",
    "data = pd.read_csv(file_path)\n",
    "data"
   ]
  },
  {
   "cell_type": "markdown",
   "id": "9e52d606-1080-4e34-b6da-b433c164b257",
   "metadata": {
    "jp-MarkdownHeadingCollapsed": true
   },
   "source": [
    "## Set Visualization"
   ]
  },
  {
   "cell_type": "code",
   "execution_count": 3,
   "id": "eaf22777-7e78-4a90-902e-38be3f3c4c08",
   "metadata": {},
   "outputs": [],
   "source": [
    "sns.set(style='whitegrid')\n",
    "plt.rcParams['figure.figsize']=(12,6)"
   ]
  },
  {
   "cell_type": "markdown",
   "id": "61698e5b-f97d-4a77-9971-a02e05bffa2a",
   "metadata": {
    "jp-MarkdownHeadingCollapsed": true
   },
   "source": [
    "## Data Overview and summary"
   ]
  },
  {
   "cell_type": "code",
   "execution_count": 8,
   "id": "0022435f-d485-4fab-a41c-ec1c64011390",
   "metadata": {},
   "outputs": [
    {
     "data": {
      "text/html": [
       "<div>\n",
       "<style scoped>\n",
       "    .dataframe tbody tr th:only-of-type {\n",
       "        vertical-align: middle;\n",
       "    }\n",
       "\n",
       "    .dataframe tbody tr th {\n",
       "        vertical-align: top;\n",
       "    }\n",
       "\n",
       "    .dataframe thead th {\n",
       "        text-align: right;\n",
       "    }\n",
       "</style>\n",
       "<table border=\"1\" class=\"dataframe\">\n",
       "  <thead>\n",
       "    <tr style=\"text-align: right;\">\n",
       "      <th></th>\n",
       "      <th>item_id</th>\n",
       "      <th>user_id</th>\n",
       "      <th>rating</th>\n",
       "      <th>timestamp</th>\n",
       "      <th>year</th>\n",
       "      <th>month</th>\n",
       "      <th>quantity</th>\n",
       "      <th>unitprice</th>\n",
       "      <th>amount</th>\n",
       "    </tr>\n",
       "  </thead>\n",
       "  <tbody>\n",
       "    <tr>\n",
       "      <th>count</th>\n",
       "      <td>45166.000000</td>\n",
       "      <td>4.516600e+04</td>\n",
       "      <td>45166.000000</td>\n",
       "      <td>45166.000000</td>\n",
       "      <td>45166.000000</td>\n",
       "      <td>45166.000000</td>\n",
       "      <td>45166.000000</td>\n",
       "      <td>45166.000000</td>\n",
       "      <td>45166.000000</td>\n",
       "    </tr>\n",
       "    <tr>\n",
       "      <th>mean</th>\n",
       "      <td>3455.669574</td>\n",
       "      <td>4.846225e+05</td>\n",
       "      <td>4.218594</td>\n",
       "      <td>42077.370743</td>\n",
       "      <td>2014.710136</td>\n",
       "      <td>6.387902</td>\n",
       "      <td>7.490878</td>\n",
       "      <td>7491.027587</td>\n",
       "      <td>56118.889032</td>\n",
       "    </tr>\n",
       "    <tr>\n",
       "      <th>std</th>\n",
       "      <td>2485.219357</td>\n",
       "      <td>3.302487e+05</td>\n",
       "      <td>1.221118</td>\n",
       "      <td>816.969504</td>\n",
       "      <td>2.264562</td>\n",
       "      <td>3.598405</td>\n",
       "      <td>1.707673</td>\n",
       "      <td>1441.977833</td>\n",
       "      <td>16924.053525</td>\n",
       "    </tr>\n",
       "    <tr>\n",
       "      <th>min</th>\n",
       "      <td>1.000000</td>\n",
       "      <td>2.800000e+01</td>\n",
       "      <td>1.000000</td>\n",
       "      <td>36692.000000</td>\n",
       "      <td>2000.000000</td>\n",
       "      <td>1.000000</td>\n",
       "      <td>5.000000</td>\n",
       "      <td>5000.000000</td>\n",
       "      <td>25000.000000</td>\n",
       "    </tr>\n",
       "    <tr>\n",
       "      <th>25%</th>\n",
       "      <td>1518.000000</td>\n",
       "      <td>1.969772e+05</td>\n",
       "      <td>4.000000</td>\n",
       "      <td>41802.000000</td>\n",
       "      <td>2014.000000</td>\n",
       "      <td>3.000000</td>\n",
       "      <td>6.000000</td>\n",
       "      <td>6239.000000</td>\n",
       "      <td>43098.250000</td>\n",
       "    </tr>\n",
       "    <tr>\n",
       "      <th>50%</th>\n",
       "      <td>2881.000000</td>\n",
       "      <td>4.410355e+05</td>\n",
       "      <td>5.000000</td>\n",
       "      <td>42219.000000</td>\n",
       "      <td>2015.000000</td>\n",
       "      <td>6.000000</td>\n",
       "      <td>7.000000</td>\n",
       "      <td>7480.000000</td>\n",
       "      <td>54243.000000</td>\n",
       "    </tr>\n",
       "    <tr>\n",
       "      <th>75%</th>\n",
       "      <td>5178.000000</td>\n",
       "      <td>7.579805e+05</td>\n",
       "      <td>5.000000</td>\n",
       "      <td>42594.000000</td>\n",
       "      <td>2016.000000</td>\n",
       "      <td>10.000000</td>\n",
       "      <td>9.000000</td>\n",
       "      <td>8735.000000</td>\n",
       "      <td>67760.000000</td>\n",
       "    </tr>\n",
       "    <tr>\n",
       "      <th>max</th>\n",
       "      <td>9551.000000</td>\n",
       "      <td>1.157632e+06</td>\n",
       "      <td>5.000000</td>\n",
       "      <td>43374.000000</td>\n",
       "      <td>2018.000000</td>\n",
       "      <td>12.000000</td>\n",
       "      <td>10.000000</td>\n",
       "      <td>10000.000000</td>\n",
       "      <td>100000.000000</td>\n",
       "    </tr>\n",
       "  </tbody>\n",
       "</table>\n",
       "</div>"
      ],
      "text/plain": [
       "            item_id       user_id        rating     timestamp          year  \\\n",
       "count  45166.000000  4.516600e+04  45166.000000  45166.000000  45166.000000   \n",
       "mean    3455.669574  4.846225e+05      4.218594  42077.370743   2014.710136   \n",
       "std     2485.219357  3.302487e+05      1.221118    816.969504      2.264562   \n",
       "min        1.000000  2.800000e+01      1.000000  36692.000000   2000.000000   \n",
       "25%     1518.000000  1.969772e+05      4.000000  41802.000000   2014.000000   \n",
       "50%     2881.000000  4.410355e+05      5.000000  42219.000000   2015.000000   \n",
       "75%     5178.000000  7.579805e+05      5.000000  42594.000000   2016.000000   \n",
       "max     9551.000000  1.157632e+06      5.000000  43374.000000   2018.000000   \n",
       "\n",
       "              month      quantity     unitprice         amount  \n",
       "count  45166.000000  45166.000000  45166.000000   45166.000000  \n",
       "mean       6.387902      7.490878   7491.027587   56118.889032  \n",
       "std        3.598405      1.707673   1441.977833   16924.053525  \n",
       "min        1.000000      5.000000   5000.000000   25000.000000  \n",
       "25%        3.000000      6.000000   6239.000000   43098.250000  \n",
       "50%        6.000000      7.000000   7480.000000   54243.000000  \n",
       "75%       10.000000      9.000000   8735.000000   67760.000000  \n",
       "max       12.000000     10.000000  10000.000000  100000.000000  "
      ]
     },
     "execution_count": 8,
     "metadata": {},
     "output_type": "execute_result"
    }
   ],
   "source": [
    "data_summary = data.describe()\n",
    "data_summary"
   ]
  },
  {
   "cell_type": "code",
   "execution_count": 7,
   "id": "105a036e-5346-4e70-9299-f5f4540c9ae3",
   "metadata": {},
   "outputs": [
    {
     "data": {
      "text/plain": [
       "item_id      0\n",
       "user_id      0\n",
       "rating       0\n",
       "timestamp    0\n",
       "gender       0\n",
       "category     0\n",
       "brand        0\n",
       "year         0\n",
       "month        0\n",
       "quantity     0\n",
       "unitprice    0\n",
       "amount       0\n",
       "dtype: int64"
      ]
     },
     "execution_count": 7,
     "metadata": {},
     "output_type": "execute_result"
    }
   ],
   "source": [
    "missing_values = data.isnull().sum()\n",
    "missing_values"
   ]
  },
  {
   "cell_type": "markdown",
   "id": "d9e7de10-babd-40ad-99f3-a217f45b3ca5",
   "metadata": {
    "jp-MarkdownHeadingCollapsed": true
   },
   "source": [
    "## EDA ( Exploratory Data Analysis)"
   ]
  },
  {
   "cell_type": "code",
   "execution_count": 10,
   "id": "c9952b1b-8871-42f0-9482-60eafc7aa26f",
   "metadata": {},
   "outputs": [],
   "source": [
    "category_counts = data['category'].value_counts()\n",
    "brand_counts = data['brand'].value_counts()"
   ]
  },
  {
   "cell_type": "code",
   "execution_count": 14,
   "id": "b4eaf340-b777-472b-af42-5621c2a5dea2",
   "metadata": {},
   "outputs": [
    {
     "name": "stdout",
     "output_type": "stream",
     "text": [
      "**************************************************\n",
      "Top 5 Categories: \n",
      " category\n",
      "Headphones                 16211\n",
      "Computers & Accessories    10108\n",
      "Camera                      9153\n",
      "Portable Audio & Video      3351\n",
      "Accessories & Supplies      2414\n",
      "Name: count, dtype: int64\n",
      "--------------------------------------------------\n",
      "Top 5 Brands: \n",
      " brand\n",
      "Logitech    4344\n",
      "Bose        4336\n",
      "Sony        2979\n",
      "EldHus      2469\n",
      "Mpow        2259\n",
      "Name: count, dtype: int64\n",
      "--------------------------------------------------\n"
     ]
    }
   ],
   "source": [
    "print('*'*50)\n",
    "print('Top 5 Categories: \\n',category_counts.head())\n",
    "print('-'*50)\n",
    "print('Top 5 Brands: \\n',brand_counts.head())\n",
    "print('-'*50)"
   ]
  },
  {
   "cell_type": "markdown",
   "id": "a7bd539e-815e-4930-ab3d-08d7490ba63f",
   "metadata": {
    "jp-MarkdownHeadingCollapsed": true
   },
   "source": [
    "## Yearly and Monthly Purchase Trends"
   ]
  },
  {
   "cell_type": "code",
   "execution_count": 15,
   "id": "7529876b-113d-426c-95ca-18b5b4f8b7e7",
   "metadata": {},
   "outputs": [],
   "source": [
    "yearly_trend = data.groupby('year')['amount'].sum()"
   ]
  },
  {
   "cell_type": "markdown",
   "id": "4f23ba51-6c5c-4b68-81e6-bcbda2ae6fd5",
   "metadata": {
    "jp-MarkdownHeadingCollapsed": true
   },
   "source": [
    "## Monthly purchase trends"
   ]
  },
  {
   "cell_type": "code",
   "execution_count": 16,
   "id": "0361f998-5fef-45fc-8399-c62f3c6de51b",
   "metadata": {},
   "outputs": [],
   "source": [
    "monthly_trend = data.groupby('month')['amount'].sum()"
   ]
  },
  {
   "cell_type": "code",
   "execution_count": 17,
   "id": "b2d5b778-32be-45e9-9e46-01a84af29f29",
   "metadata": {},
   "outputs": [
    {
     "name": "stdout",
     "output_type": "stream",
     "text": [
      "**************************************************\n",
      "Yearly Purchase Trend:  \n",
      " year\n",
      "2000       131350\n",
      "2001       774526\n",
      "2002      1093002\n",
      "2003      2703200\n",
      "2004      4342946\n",
      "2005      7129136\n",
      "2006      7682219\n",
      "2007     19014820\n",
      "2008     25183191\n",
      "2009     31782539\n",
      "2010     46010449\n",
      "2011     60980073\n",
      "2012     86746346\n",
      "2013    203808953\n",
      "2014    401383841\n",
      "2015    635759487\n",
      "2016    558113646\n",
      "2017    322405079\n",
      "2018    119620939\n",
      "Name: amount, dtype: int64\n",
      "--------------------------------------------------\n",
      "Monthly Purchase Trend: \n",
      " month\n",
      "1     277178087\n",
      "2     224456559\n",
      "3     211794176\n",
      "4     187613515\n",
      "5     193123303\n",
      "6     192012754\n",
      "7     203163773\n",
      "8     218550984\n",
      "9     189864160\n",
      "10    186447984\n",
      "11    195141103\n",
      "12    255319344\n",
      "Name: amount, dtype: int64\n",
      "--------------------------------------------------\n"
     ]
    }
   ],
   "source": [
    "# Displaying\n",
    "print('*'*50)\n",
    "print('Yearly Purchase Trend:  \\n',yearly_trend)\n",
    "print('-'*50)\n",
    "print('Monthly Purchase Trend: \\n',monthly_trend)\n",
    "print('-'*50)"
   ]
  },
  {
   "cell_type": "markdown",
   "id": "e5c2bfa0-9137-4745-a3c9-f99a281e042f",
   "metadata": {
    "jp-MarkdownHeadingCollapsed": true
   },
   "source": [
    "## Correlation between amount, quantity, and unit price"
   ]
  },
  {
   "cell_type": "code",
   "execution_count": 18,
   "id": "5e56946a-a925-4707-b7a0-a25864feaee5",
   "metadata": {},
   "outputs": [
    {
     "name": "stdout",
     "output_type": "stream",
     "text": [
      "Correlation Matrix:\n",
      "              amount  quantity  unitprice\n",
      "amount     1.000000  0.756842   0.638742\n",
      "quantity   0.756842  1.000000   0.001833\n",
      "unitprice  0.638742  0.001833   1.000000\n"
     ]
    }
   ],
   "source": [
    "correlation_matrix = data[['amount','quantity','unitprice']].corr()\n",
    "print('Correlation Matrix:\\n',correlation_matrix)"
   ]
  },
  {
   "cell_type": "markdown",
   "id": "2ce5ac86-5055-48d7-b67f-ab9eea2ea450",
   "metadata": {
    "jp-MarkdownHeadingCollapsed": true
   },
   "source": [
    "## Split data by genders"
   ]
  },
  {
   "cell_type": "code",
   "execution_count": 19,
   "id": "c3bb9b61-1b7c-455b-a70c-f3d93f961ae0",
   "metadata": {},
   "outputs": [
    {
     "name": "stdout",
     "output_type": "stream",
     "text": [
      "T-test result: t-statistic = nan, p-value = nan\n"
     ]
    }
   ],
   "source": [
    "male_ratings = data[data['gender'] == 'Male']['rating']\n",
    "female_ratings = data[data['gender'] == 'female']['rating']\n",
    "# Perform a t-test to see if there is a significant difference between \n",
    "# male and female ratings\n",
    "t_stat, p_value = stats.ttest_ind(male_ratings, female_ratings)\n",
    "print(f\"T-test result: t-statistic = {t_stat}, p-value = {p_value}\")"
   ]
  },
  {
   "cell_type": "markdown",
   "id": "601dac31-b995-46ef-816a-dbd7171ae348",
   "metadata": {
    "jp-MarkdownHeadingCollapsed": true
   },
   "source": [
    "## Mean and Standard Deviation Using Numpy"
   ]
  },
  {
   "cell_type": "code",
   "execution_count": 21,
   "id": "be506105-0522-42b5-bfb2-1b98fdc1007b",
   "metadata": {},
   "outputs": [],
   "source": [
    "# Calculate mean and standard deviation for quantity, unitprice and amount\n",
    "mean_quantity = np.mean(data['quantity'])\n",
    "std_quantity = np.std(data['quantity'])\n",
    "\n",
    "mean_unitprice = np.mean(data['unitprice'])\n",
    "std_unitprice= np.std(data['unitprice'])\n",
    "\n",
    "mean_amount = np.mean(data['amount'])\n",
    "std_amount = np.std(data['amount'])\n"
   ]
  },
  {
   "cell_type": "code",
   "execution_count": 22,
   "id": "f26d293d-ba0d-4ba2-942a-804711eeb0c9",
   "metadata": {},
   "outputs": [
    {
     "name": "stdout",
     "output_type": "stream",
     "text": [
      "Mean Quantity: 7.490878094141611,Std Dev:1.707653830574075\n",
      "Mean Unitprice: 7491.027587123057,Std Dev:1441.9618696458376\n",
      "Mean Amount: 56118.88903157242,Std Dev:16923.86617055038\n"
     ]
    }
   ],
   "source": [
    "# Displaying\n",
    "print(f'Mean Quantity: {mean_quantity},Std Dev:{std_quantity}')\n",
    "print(f'Mean Unitprice: {mean_unitprice},Std Dev:{std_unitprice}')\n",
    "print(f'Mean Amount: {mean_amount},Std Dev:{std_amount}')"
   ]
  },
  {
   "cell_type": "markdown",
   "id": "a53d8b3c-73af-428f-a046-6514d4918471",
   "metadata": {
    "jp-MarkdownHeadingCollapsed": true
   },
   "source": [
    "## Visualization"
   ]
  },
  {
   "cell_type": "code",
   "execution_count": 26,
   "id": "bc35f083-2458-489f-b9c4-0e6e1a726c94",
   "metadata": {},
   "outputs": [
    {
     "data": {
      "image/png": "[encoded data removed]",
      "text/plain": [
       "<Figure size 1000x500 with 1 Axes>"
      ]
     },
     "metadata": {},
     "output_type": "display_data"
    }
   ],
   "source": [
    "# Category Distribution\n",
    "plt.figure(figsize=(10,5))\n",
    "sns.countplot(data=data,y='category',order=category_counts.index)\n",
    "plt.title('Category Distribution')\n",
    "plt.xlabel('Count')\n",
    "plt.ylabel('Category')\n",
    "plt.show()"
   ]
  },
  {
   "cell_type": "markdown",
   "id": "f75d738f-ab3c-4f8e-aebd-3aa19f391cc5",
   "metadata": {
    "jp-MarkdownHeadingCollapsed": true
   },
   "source": [
    "## Yearly Purchase Trends Visualization"
   ]
  },
  {
   "cell_type": "code",
   "execution_count": 27,
   "id": "2c106eab-958c-4bb8-ba7b-0cdf7025bc83",
   "metadata": {},
   "outputs": [
    {
     "data": {
      "image/png": "[encoded data removed]",
      "text/plain": [
       "<Figure size 1000x500 with 1 Axes>"
      ]
     },
     "metadata": {},
     "output_type": "display_data"
    }
   ],
   "source": [
    "plt.figure(figsize=(10,5))\n",
    "yearly_trend.plot(kind='line',marker='o')\n",
    "plt.title('Yearly Purchase Trend')\n",
    "plt.xlabel('Year')\n",
    "plt.ylabel('Total Amount Spent')\n",
    "plt.grid(True)\n",
    "plt.show()"
   ]
  },
  {
   "cell_type": "markdown",
   "id": "1230601a-7456-49ce-8ee1-454c805f2f7a",
   "metadata": {
    "jp-MarkdownHeadingCollapsed": true
   },
   "source": [
    "## Monthly Purchase Trends"
   ]
  },
  {
   "cell_type": "code",
   "execution_count": 28,
   "id": "cd748036-7dff-4aad-967d-d9baa9a6d9ff",
   "metadata": {},
   "outputs": [
    {
     "data": {
      "image/png": "[encoded data removed]",
      "text/plain": [
       "<Figure size 1000x500 with 1 Axes>"
      ]
     },
     "metadata": {},
     "output_type": "display_data"
    }
   ],
   "source": [
    "plt.figure(figsize=(10,5))\n",
    "monthly_trend.plot(kind='bar',color='skyblue')\n",
    "plt.title('Monthly Purchase Trend')\n",
    "plt.xlabel('Month')\n",
    "plt.ylabel('Total Amount Spent')\n",
    "plt.show()"
   ]
  },
  {
   "cell_type": "markdown",
   "id": "ae2613ed-9926-4b13-b74f-0642848fc116",
   "metadata": {
    "jp-MarkdownHeadingCollapsed": true
   },
   "source": [
    "#          OVERVIEW \n",
    "             1. Basic statistics and missing value detection.  \n",
    "             2. EDA to understand category, brand distribution, and purchase patterns. \n",
    "             3. Correlation analysis to identify relationships between variables. \n",
    "             4. Statistical tests using SciPy to compare ratings between genders. \n",
    "             5. Visualization using Matplotlib and Seaborn."
   ]
  },
  {
   "cell_type": "code",
   "execution_count": null,
   "id": "e566991f-d432-4a71-823f-761226510256",
   "metadata": {},
   "outputs": [],
   "source": []
  }
 ],
 "metadata": {
  "kernelspec": {
   "display_name": "Python 3 (ipykernel)",
   "language": "python",
   "name": "python3"
  },
  "language_info": {
   "codemirror_mode": {
    "name": "ipython",
    "version": 3
   },
   "file_extension": ".py",
   "mimetype": "text/x-python",
   "name": "python",
   "nbconvert_exporter": "python",
   "pygments_lexer": "ipython3",
   "version": "3.12.4"
  }
 },
 "nbformat": 4,
 "nbformat_minor": 5
}
